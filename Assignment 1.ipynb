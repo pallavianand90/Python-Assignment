{
 "cells": [
  {
   "cell_type": "raw",
   "id": "0e810c31",
   "metadata": {},
   "source": [
    "1. In the below elements which of them are values or an expression?\n",
    "   eg:- values can be integer or string and expressions will be mathematical operators.\n",
    "\n",
    "*        - Expression(Multiplication operator)\n",
    "'hello'  - Value(String)\n",
    "-87.8    - Value(Float)\n",
    "-        - Expression(Subtraction operator)\n",
    "/        - Expression(Division operator)\n",
    "+        - Expression(Addition operator)\n",
    "6        - Value(Integer)\n",
    "\n",
    "        \n",
    "    "
   ]
  },
  {
   "cell_type": "raw",
   "id": "18389e20",
   "metadata": {},
   "source": [
    "2. What is the difference between string and variable?\n",
    "\n",
    "String is a data type which is surrounded by either single quotation marks or double quotation marks whereas \n",
    "Variables are containers for storing data values of different data types."
   ]
  },
  {
   "cell_type": "raw",
   "id": "ee6e2e5b",
   "metadata": {},
   "source": [
    "3. Describe three different data types.\n",
    "\n",
    "* INTEGER - Integers are zero, positive or negative whole numbers without a fractional part\n",
    "            and having unlimited precision. e.g. 0, 100, -10\n",
    "    \n",
    "* FLOAT - Floating numbers (float) are positive and negative real numbers \n",
    "          with a fractional part denoted by the decimal symbol. e.g. 1234.56, 3.142, -1.55\n",
    "    \n",
    "* COMPLEX NUMBER - A complex number is a number with real and imaginary components.\n",
    "                   For example, 5 + 6j is a complex number where 5 is the real component and 6 multiplied by j is an    \n",
    "                   imaginary component.    "
   ]
  },
  {
   "cell_type": "raw",
   "id": "e2e2b6d7",
   "metadata": {},
   "source": [
    "4. What is an expression made up of? What do all expressions do?\n",
    "\n",
    "- Expression is made up of values, containers, and mathematical operators (operands).\n",
    "  \n",
    "  + - x + y - Addition\n",
    "  – - x – y - Subtraction\n",
    "  * - x * y - Multiplication\n",
    "  / - x / y - Division\n",
    " // - x // y - Quotient\n",
    "  % - x % y - Remainder\n",
    "  ** - x ** y -Exponentiation"
   ]
  },
  {
   "cell_type": "raw",
   "id": "e77d1806",
   "metadata": {},
   "source": [
    "5. This assignment statements, like spam = 10. What is the difference between an expression and a statement?\n",
    "\n",
    "- Expression is made up of values, containers and mathematical operators (operands)\n",
    "  and the statement is just like a command that a python interpreter executes like print."
   ]
  },
  {
   "cell_type": "raw",
   "id": "6fa742ad",
   "metadata": {},
   "source": [
    "6. After running the following code, what does the variable bacon contain?\n",
    "bacon = 22\n",
    "bacon + 1\n",
    "\n",
    "- It gives Output = 23 "
   ]
  },
  {
   "cell_type": "raw",
   "id": "fc1d02a9",
   "metadata": {},
   "source": [
    "7. What should the values of the following two terms be?\n",
    "print('spam' + 'spamspam')\n",
    "print('spam' * 3)\n",
    "\n",
    "Output1 = spamspamspam\n",
    "Output2 = spamspamspam"
   ]
  },
  {
   "cell_type": "raw",
   "id": "4a08b752",
   "metadata": {},
   "source": [
    "8. Why is eggs a valid variable name while 100 is invalid?\n",
    "\n",
    "- Eggs are valid but integer is invalid variable name because we cannot start a variable name with an integer.\n",
    "  we should begin with an alphabet and Underscore before integer.\n",
    "  eg - _100,eggs100"
   ]
  },
  {
   "cell_type": "raw",
   "id": "dc5ea264",
   "metadata": {},
   "source": [
    "9. What three functions can be used to get the integer, floating-point number, or string version of a value?\n",
    "\n",
    "- Integer -         int()\n",
    "  Floating point -  float()\n",
    "  String -          str()"
   ]
  },
  {
   "cell_type": "raw",
   "id": "f9ac7aeb",
   "metadata": {},
   "source": [
    "10. Why does this expression cause an error? How can you fix it?\n",
    "'I have eaten ' + 99 + ' burritos.'\n",
    "\n",
    "- Concatination can be possible with string variable but 99 is integer here. So typecasting is used.\n",
    " 'I have eaten ' +str(99) + ' burritos.'"
   ]
  }
 ],
 "metadata": {
  "kernelspec": {
   "display_name": "Python 3 (ipykernel)",
   "language": "python",
   "name": "python3"
  },
  "language_info": {
   "codemirror_mode": {
    "name": "ipython",
    "version": 3
   },
   "file_extension": ".py",
   "mimetype": "text/x-python",
   "name": "python",
   "nbconvert_exporter": "python",
   "pygments_lexer": "ipython3",
   "version": "3.9.7"
  }
 },
 "nbformat": 4,
 "nbformat_minor": 5
}
